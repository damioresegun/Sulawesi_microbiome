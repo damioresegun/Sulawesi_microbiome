{
 "cells": [
  {
   "cell_type": "markdown",
   "id": "b9bf7164-b4f6-4583-a239-db28f77f6c62",
   "metadata": {},
   "source": [
    "# Script to carry out Metagenomics Data Pre-processing and Assembly"
   ]
  },
  {
   "cell_type": "markdown",
   "id": "cd582eb9-0b7d-46c3-a725-e3499b69d00a",
   "metadata": {},
   "source": [
    "## Rationale\n",
    "\n",
    "- The script below uses long read nanopore data which has been sequenced from DNA extracted faecal samples. The nanopore reads are DNA and dscDNA from faecal samples of Indonesian Macaques.\n",
    "- As such the DNA will contain host macaque DNA, plant DNA, bacteria, fungi and viruses. There should also be some protist DNA -- likely Plasmodium, and perhaps some archea. \n",
    "- The script follows a basic pre-processing pipeline at first before subsequently branching into a metagenomics focussed pipeline"
   ]
  },
  {
   "cell_type": "code",
   "execution_count": 1,
   "id": "56c31cd6-57ed-46c0-aa5d-00821fde150c",
   "metadata": {},
   "outputs": [
    {
     "data": {
      "text/plain": [
       "'/mnt/shared/scratch/doresegu/private/JCS_MetaGenome_Project/Scripts'"
      ]
     },
     "execution_count": 1,
     "metadata": {},
     "output_type": "execute_result"
    }
   ],
   "source": [
    "pwd"
   ]
  },
  {
   "cell_type": "markdown",
   "id": "8a513943-e030-4d52-9048-a9f21396e91e",
   "metadata": {},
   "source": [
    "#### Define the parameters needed"
   ]
  },
  {
   "cell_type": "code",
   "execution_count": 2,
   "id": "4dbe93a4-db6c-4e36-8e00-3d5676626458",
   "metadata": {},
   "outputs": [],
   "source": [
    "import sys\n",
    "import os\n",
    "import configparser\n",
    "import subprocess\n",
    "import argparse"
   ]
  },
  {
   "cell_type": "code",
   "execution_count": 26,
   "id": "5cc13ad6-7ffd-493d-9385-43f1d5f409ab",
   "metadata": {},
   "outputs": [],
   "source": [
    "# read in the config file to get information on the run\n",
    "#conf=sys.argv[1]\n",
    "config_file = configparser.ConfigParser()\n",
    "#config_file.read_file(open(conf))\n",
    "config_file.read_file(open(r'metagen_config.txt'))"
   ]
  },
  {
   "cell_type": "markdown",
   "id": "e6df1f8d-6281-4053-a989-61ecae50885d",
   "metadata": {},
   "source": [
    "##### Paths"
   ]
  },
  {
   "cell_type": "code",
   "execution_count": 27,
   "id": "2335b89c-eddb-4903-a23c-3a21a15e5d0b",
   "metadata": {},
   "outputs": [
    {
     "name": "stdout",
     "output_type": "stream",
     "text": [
      "Your raw reads are saved in: /home/doresegu/projects/uosa/Janet_Cox_Singh/Metagenomics/April2021_Optimisation_Sequencing_2samples/RawFiles/Macaque_1_20_04_21/no_sample/20210420_1647_MN17366_FAP72684_88de1f3e/fast5/\n",
      "Your basecalled reads are saved in: \n",
      "The results will be saved in: /home/doresegu/scratch/private/JCS_MetaGenome_Project/JapaneseMacaqueData\n",
      "Your reference genome is in: /home/doresegu/scratch/private/JCS_MetaGenome_Project/Index/GCF_000956065.1_Mnem_1.0_genomic.fna.gz and its GFF is in: /home/doresegu/scratch/private/JCS_MetaGenome_Project/Index/GCF_000956065.1_Mnem_1.0_genomic.gff.gz\n"
     ]
    }
   ],
   "source": [
    "####### PATHS\n",
    "# get path to the reference genome\n",
    "REFPATH=config_file.get('PATHS', 'REFPATH')\n",
    "# get the path to the raw reads\n",
    "RAWPATH=config_file.get('PATHS', 'RPATH')\n",
    "# get the path to the output folder\n",
    "SAVEPATH=config_file.get('PATHS','SPATH')\n",
    "# get the path to folder holding sub-scripts\n",
    "SCPTS=config_file.get('PATHS','SCPTS')\n",
    "# get the path to the basecalled data if available. If not, will be defined later in the script\n",
    "BASEPATH=config_file.get('PATHS','DPATH')\n",
    "# get path to the reference GFF file\n",
    "REFGFF=config_file.get('PATHS','REFGFF')\n",
    "# get the path to the ONT guppy\n",
    "ONT=config_file.get('PATHS','ONT')\n",
    "# get the path to the BUSCO container\n",
    "busDOCK=config_file.get('PATHS','busDock')\n",
    "\n",
    "print(\"Your raw reads are saved in: \"+ RAWPATH)\n",
    "print(\"Your basecalled reads are saved in: \" + BASEPATH)\n",
    "os.system(\"mkdir -p \" + SAVEPATH)\n",
    "print(\"The results will be saved in: \" + SAVEPATH)\n",
    "print(\"Your reference genome is in: \"+ REFPATH + \" and its GFF is in: \" + REFGFF)"
   ]
  },
  {
   "cell_type": "markdown",
   "id": "221e11f6-948d-433d-ba96-0c9e6781430c",
   "metadata": {},
   "source": [
    "##### Experiment Information"
   ]
  },
  {
   "cell_type": "code",
   "execution_count": 28,
   "id": "5acd79e6-8377-4226-adc1-c2909340daa9",
   "metadata": {},
   "outputs": [
    {
     "name": "stdout",
     "output_type": "stream",
     "text": [
      "Your experiment name is: April2019\n",
      "Your sequencing kit name is: SQK-LSK109\n",
      "Your flowcell is: FLO-MIN106\n"
     ]
    }
   ],
   "source": [
    "###### get information on the experiment\n",
    "# what is the name of the experiment\n",
    "EXPMT=config_file.get('EXPERIMENT INFO', 'EXPMT')\n",
    "# what sequencing preparation was used\n",
    "KIT=config_file.get('EXPERIMENT INFO', 'KIT')\n",
    "KIT2=config_file.get('EXPERIMENT INFO', 'KIT2')\n",
    "# what barcoding library was used\n",
    "BCDLIB=config_file.get('EXPERIMENT INFO', 'BCDLIB')\n",
    "BCDLIB2=config_file.get('EXPERIMENT INFO', 'BCDLIB2')\n",
    "# what barcodes were used\n",
    "BRCDES=config_file.get('EXPERIMENT INFO', 'BCODES').split(',')\n",
    "# what flowcell was used\n",
    "FLCLL=config_file.get('EXPERIMENT INFO', 'FLOWCELL')\n",
    "ISOLATES = config_file.get('EXPERIMENT INFO', 'ISOLATES').split(',')\n",
    "FILT_LENGTH = config_file.get('EXPERIMENT INFO', 'FILT_LENGTH')\n",
    "FILT_QUAL = config_file.get('EXPERIMENT INFO', 'FILT_QUAL')\n",
    "print(\"Your experiment name is: \" + EXPMT)\n",
    "print(\"Your sequencing kit name is: \" + KIT)\n",
    "print(\"Your flowcell is: \" + FLCLL)"
   ]
  },
  {
   "cell_type": "code",
   "execution_count": 9,
   "id": "9991ddc7-0e9c-4c88-abc9-198b3e4c5210",
   "metadata": {},
   "outputs": [
    {
     "data": {
      "text/plain": [
       "'Wu_M_010GEN_FS_dna'"
      ]
     },
     "execution_count": 9,
     "metadata": {},
     "output_type": "execute_result"
    }
   ],
   "source": [
    "ISOLATES[0]"
   ]
  },
  {
   "cell_type": "markdown",
   "id": "e5294130-c90e-48ff-b5fe-bf2e123fa56d",
   "metadata": {},
   "source": [
    "##### Environments"
   ]
  },
  {
   "cell_type": "code",
   "execution_count": 11,
   "id": "dff4d2a6-09d1-4781-9ad1-5057fa717369",
   "metadata": {},
   "outputs": [],
   "source": [
    "tConv=config_file.get('ENVIRONMENTS', 'tConEnv')\n",
    "THRDS=config_file.get('PROCESSING', 'THREADS')"
   ]
  },
  {
   "cell_type": "markdown",
   "id": "074c393e-3c1b-442e-bbfd-ef94ed38c957",
   "metadata": {},
   "source": [
    "##### Basecalling and Demultiplexing\n",
    "\n",
    "- This step uses Guppy version 6.0.1 via a bash script that is saved in the script folder given in the config file\n",
    "- Demultiplexing is done using qcat v1.1.0"
   ]
  },
  {
   "cell_type": "code",
   "execution_count": 12,
   "id": "e69c72d5-ec01-41ea-8e69-3eea2db06e28",
   "metadata": {},
   "outputs": [
    {
     "name": "stdout",
     "output_type": "stream",
     "text": [
      "Basecalling is done\n"
     ]
    }
   ],
   "source": [
    "# set the path to the basecalling script\n",
    "bascal=SCPTS+\"/Basecalling.sh\"\n",
    "# call the basecalling bash script\n",
    "basecallingScript=['bash',bascal,RAWPATH,SAVEPATH,FLCLL,KIT,ONT]\n",
    "#print(basecallingScript)\n",
    "#subprocess.run(basecallingScript)\n",
    "if BASEPATH=='':\n",
    "    BASEPATH=SAVEPATH+\"/Basecalled\"\n",
    "print(\"Basecalling is done\")"
   ]
  },
  {
   "cell_type": "code",
   "execution_count": 13,
   "id": "373bc87c-9bd0-40d2-aff2-710d97e7d5a5",
   "metadata": {
    "tags": []
   },
   "outputs": [
    {
     "name": "stdout",
     "output_type": "stream",
     "text": [
      "Demultiplexing done\n",
      "The demultiplexing outputs are saved in /home/doresegu/scratch/private/JCS_MetaGenome_Project/JapaneseMacaqueData/Demultiplexed\n"
     ]
    }
   ],
   "source": [
    "# carry out demultiplexing\n",
    "demCal=SCPTS+\"/Demultiplexing.sh\"\n",
    "demultipScrip=['bash',demCal,tConv,BASEPATH,SAVEPATH,THRDS,BCDLIB2]\n",
    "#subprocess.run(demultipScrip)\n",
    "print(\"Demultiplexing done\")\n",
    "print(\"The demultiplexing outputs are saved in \"+SAVEPATH+\"/Demultiplexed\")"
   ]
  },
  {
   "cell_type": "markdown",
   "id": "a0d38b44-da8a-4ba1-a2c2-270fbfc49b9d",
   "metadata": {},
   "source": [
    "##### Read QC\n",
    "- This will done with NanoQC, NanoStat and FastQC"
   ]
  },
  {
   "cell_type": "code",
   "execution_count": 31,
   "id": "01e33cd5-76ea-4c00-b66e-5c879290bc16",
   "metadata": {},
   "outputs": [
    {
     "name": "stdout",
     "output_type": "stream",
     "text": [
      "NanoStat --fastq /home/doresegu/scratch/private/JCS_MetaGenome_Project/JapaneseMacaqueData/Demultiplexed/barcode01.fastq.gz --outdir /home/doresegu/scratch/private/JCS_MetaGenome_Project/JapaneseMacaqueData/Stats/Demultiplexed/barcode01 -n barcode01.txt\n",
      "nanoStat complete for barcode01\n",
      "Proceeding to nanoQC\n",
      "nanoQC -o /home/doresegu/scratch/private/JCS_MetaGenome_Project/JapaneseMacaqueData/Stats/Demultiplexed/barcode01 /home/doresegu/scratch/private/JCS_MetaGenome_Project/JapaneseMacaqueData/Demultiplexed/barcode01.fastq.gz -l 50\n",
      "nanoQC complete for barcode01\n",
      "Proceeding to FastQC\n",
      "fastqc -t 12 -o /home/doresegu/scratch/private/JCS_MetaGenome_Project/JapaneseMacaqueData/Stats/Demultiplexed/barcode01 /home/doresegu/scratch/private/JCS_MetaGenome_Project/JapaneseMacaqueData/Demultiplexed/barcode01.fastq.gz\n",
      "FastQC complete\n",
      "NanoStat --fastq /home/doresegu/scratch/private/JCS_MetaGenome_Project/JapaneseMacaqueData/Demultiplexed/barcode02.fastq.gz --outdir /home/doresegu/scratch/private/JCS_MetaGenome_Project/JapaneseMacaqueData/Stats/Demultiplexed/barcode02 -n barcode02.txt\n",
      "nanoStat complete for barcode02\n",
      "Proceeding to nanoQC\n",
      "nanoQC -o /home/doresegu/scratch/private/JCS_MetaGenome_Project/JapaneseMacaqueData/Stats/Demultiplexed/barcode02 /home/doresegu/scratch/private/JCS_MetaGenome_Project/JapaneseMacaqueData/Demultiplexed/barcode02.fastq.gz -l 50\n",
      "nanoQC complete for barcode02\n",
      "Proceeding to FastQC\n",
      "fastqc -t 12 -o /home/doresegu/scratch/private/JCS_MetaGenome_Project/JapaneseMacaqueData/Stats/Demultiplexed/barcode02 /home/doresegu/scratch/private/JCS_MetaGenome_Project/JapaneseMacaqueData/Demultiplexed/barcode02.fastq.gz\n",
      "FastQC complete\n"
     ]
    }
   ],
   "source": [
    "def run_QC(SAVEPATH,BRCDES):\n",
    "    demultiplexed = SAVEPATH + \"/Demultiplexed\"\n",
    "    # run nanoStat\n",
    "    #!mkdir -p \"$SAVEPATH/Stats\"\n",
    "    for i in BRCDES:\n",
    "        statss = SAVEPATH + \"/Stats/Raw_Demultiplexed_Reads/\" + i\n",
    "        os.system('mkdir -p ' + statss)\n",
    "        file = demultiplexed + \"/\" + i + \".fastq.gz\"\n",
    "        ofile = i + \".txt\"\n",
    "        nanSt = (\"NanoStat\", \"--fastq\", file, \"--outdir\", statss, \"-n\", ofile)\n",
    "        runNanSt = ' '.join(nanSt)\n",
    "        print(runNanSt)\n",
    "        #subprocess.call(runNanSt, shell=True)\n",
    "        print('nanoStat complete for ' + i)\n",
    "        print('Proceeding to nanoQC')\n",
    "        nanQ = (\"nanoQC\", \"-o\", statss, file)\n",
    "        runNanQ = ' '.join(nanQ)\n",
    "        print(runNanQ)\n",
    "        #subprocess.call(runNanQ, shell=True)\n",
    "        print('nanoQC complete for ' + i)\n",
    "        print('Proceeding to FastQC')\n",
    "        fatq = (\"fastqc\", \"-t\", THRDS, \"-o\", statss, file)\n",
    "        runFatq = ' '.join(fatq)\n",
    "        print(runFatq)\n",
    "        #subprocess.call(runFatq, shell=True)\n",
    "        print('FastQC complete')\n",
    "run_QC(SAVEPATH,BRCDES)\n",
    "count = 0\n",
    "for i in BRCDES:\n",
    "    isola = ISOLATES[count]\n",
    "    filtered_path,filtered_stats=filt_qc(SAVEPATH,i,isola)\n",
    "    print('The raw demultiplexed reads have been successfully filtered and saved in ' + filtered_path)\n",
    "    print('The QC stats for the filtered reads are saved in ' + filtered_stats)\n",
    "    count+=1\n",
    "    print('Please remember that the files are now renamed')\n",
    "    print(i + ' is now ' + isola)\n",
    "    print('')"
   ]
  },
  {
   "cell_type": "code",
   "execution_count": 59,
   "id": "f567f16b-8b18-4134-aeb4-159035208875",
   "metadata": {},
   "outputs": [
    {
     "name": "stdout",
     "output_type": "stream",
     "text": [
      "NanoStat --fastq /home/doresegu/scratch/private/JCS_MetaGenome_Project/JapaneseMacaqueData/Demultiplexed/barcode01.fastq.gz --outdir /home/doresegu/scratch/private/JCS_MetaGenome_Project/JapaneseMacaqueData/Stats/Raw_Demultiplexed_Reads/barcode01 -n barcode01.txt\n",
      "nanoStat complete for barcode01\n",
      "Proceeding to nanoQC\n",
      "nanoQC -o /home/doresegu/scratch/private/JCS_MetaGenome_Project/JapaneseMacaqueData/Stats/Raw_Demultiplexed_Reads/barcode01 /home/doresegu/scratch/private/JCS_MetaGenome_Project/JapaneseMacaqueData/Demultiplexed/barcode01.fastq.gz\n",
      "nanoQC complete for barcode01\n",
      "Proceeding to FastQC\n",
      "fastqc -t 12 -o /home/doresegu/scratch/private/JCS_MetaGenome_Project/JapaneseMacaqueData/Stats/Raw_Demultiplexed_Reads/barcode01 /home/doresegu/scratch/private/JCS_MetaGenome_Project/JapaneseMacaqueData/Demultiplexed/barcode01.fastq.gz\n",
      "FastQC complete\n",
      "The QC stats for the raw reads are saved in /home/doresegu/scratch/private/JCS_MetaGenome_Project/JapaneseMacaqueData/Stats/Raw_Demultiplexed_Reads/barcode01\n",
      "NanoStat --fastq /home/doresegu/scratch/private/JCS_MetaGenome_Project/JapaneseMacaqueData/Demultiplexed/barcode02.fastq.gz --outdir /home/doresegu/scratch/private/JCS_MetaGenome_Project/JapaneseMacaqueData/Stats/Raw_Demultiplexed_Reads/barcode02 -n barcode02.txt\n",
      "nanoStat complete for barcode02\n",
      "Proceeding to nanoQC\n",
      "nanoQC -o /home/doresegu/scratch/private/JCS_MetaGenome_Project/JapaneseMacaqueData/Stats/Raw_Demultiplexed_Reads/barcode02 /home/doresegu/scratch/private/JCS_MetaGenome_Project/JapaneseMacaqueData/Demultiplexed/barcode02.fastq.gz\n",
      "nanoQC complete for barcode02\n",
      "Proceeding to FastQC\n",
      "fastqc -t 12 -o /home/doresegu/scratch/private/JCS_MetaGenome_Project/JapaneseMacaqueData/Stats/Raw_Demultiplexed_Reads/barcode02 /home/doresegu/scratch/private/JCS_MetaGenome_Project/JapaneseMacaqueData/Demultiplexed/barcode02.fastq.gz\n",
      "FastQC complete\n",
      "The QC stats for the raw reads are saved in /home/doresegu/scratch/private/JCS_MetaGenome_Project/JapaneseMacaqueData/Stats/Raw_Demultiplexed_Reads/barcode02\n"
     ]
    }
   ],
   "source": [
    "def run_QC(SAVEPATH,BRCDE):\n",
    "    demultiplexed = SAVEPATH + \"/Demultiplexed\"\n",
    "    # run nanoStat\n",
    "    #!mkdir -p \"$SAVEPATH/Stats\"\n",
    "    statss = SAVEPATH + \"/Stats/Raw_Demultiplexed_Reads/\" + BRCDE\n",
    "    os.system('mkdir -p ' + statss)\n",
    "    file = demultiplexed + \"/\" + BRCDE + \".fastq.gz\"\n",
    "    ofile = BRCDE + \".txt\"\n",
    "    nanSt = (\"NanoStat\", \"--fastq\", file, \"--outdir\", statss, \"-n\", ofile)\n",
    "    runNanSt = ' '.join(nanSt)\n",
    "    print(runNanSt)\n",
    "    #subprocess.call(runNanSt, shell=True)\n",
    "    print('nanoStat complete for ' + BRCDE)\n",
    "    print('Proceeding to nanoQC')\n",
    "    nanQ = (\"nanoQC\", \"-o\", statss, file)\n",
    "    runNanQ = ' '.join(nanQ)\n",
    "    print(runNanQ)\n",
    "    #subprocess.call(runNanQ, shell=True)\n",
    "    print('nanoQC complete for ' + BRCDE)\n",
    "    print('Proceeding to FastQC')\n",
    "    fatq = (\"fastqc\", \"-t\", THRDS, \"-o\", statss, file)\n",
    "    runFatq = ' '.join(fatq)\n",
    "    print(runFatq)\n",
    "    #subprocess.call(runFatq, shell=True)\n",
    "    print('FastQC complete')\n",
    "    return statss\n",
    "#run_QC(SAVEPATH,BRCDES)\n",
    "for i in BRCDES:\n",
    "    filtered_stats=run_QC(SAVEPATH,i)\n",
    "    print('The QC stats for the raw reads are saved in ' + filtered_stats)"
   ]
  },
  {
   "cell_type": "code",
   "execution_count": 44,
   "id": "991b2534-bbf4-4938-b33b-074d012ba3c2",
   "metadata": {},
   "outputs": [
    {
     "name": "stdout",
     "output_type": "stream",
     "text": [
      "Filtering by the defined length you provided\n",
      "Starting NanoFilt\n",
      "gunzip -c /home/doresegu/scratch/private/JCS_MetaGenome_Project/JapaneseMacaqueData/Demultiplexed/barcode01.fastq.gz | NanoFilt -l 50 -q 10 > /home/doresegu/scratch/private/JCS_MetaGenome_Project/JapaneseMacaqueData/Filtered_RawReads/Wu_M_010GEN_FS_dna.fastq.gz\n",
      "Filtering complete. QC will be done for your new filtered reads\n",
      "The files have been renamed according to the names provided in the config file\n",
      "This means that barcode01 has been renamed to Wu_M_010GEN_FS_dna\n",
      "NanoStat --fastq /home/doresegu/scratch/private/JCS_MetaGenome_Project/JapaneseMacaqueData/Filtered_RawReads/Wu_M_010GEN_FS_dna.fastq.gz --outdir /home/doresegu/scratch/private/JCS_MetaGenome_Project/JapaneseMacaqueData/Stats/Filtered_Demultiplexed_Reads/barcode01_Wu_M_010GEN_FS_dna -n Wu_M_010GEN_FS_dna.txt\n",
      "nanoStat complete for barcode01\n",
      "Proceeding to nanoQC\n",
      "nanoQC -o /home/doresegu/scratch/private/JCS_MetaGenome_Project/JapaneseMacaqueData/Stats/Filtered_Demultiplexed_Reads/barcode01_Wu_M_010GEN_FS_dna /home/doresegu/scratch/private/JCS_MetaGenome_Project/JapaneseMacaqueData/Filtered_RawReads/Wu_M_010GEN_FS_dna.fastq.gz\n",
      "nanoQC complete for barcode01\n",
      "Proceeding to FastQC\n",
      "fastqc -t 12 -o /home/doresegu/scratch/private/JCS_MetaGenome_Project/JapaneseMacaqueData/Stats/Filtered_Demultiplexed_Reads/barcode01_Wu_M_010GEN_FS_dna /home/doresegu/scratch/private/JCS_MetaGenome_Project/JapaneseMacaqueData/Filtered_RawReads/Wu_M_010GEN_FS_dna.fastq.gz\n",
      "FastQC complete\n",
      "\n",
      "The raw reads have been successfully filtered and saved in /home/doresegu/scratch/private/JCS_MetaGenome_Project/JapaneseMacaqueData/Filtered_RawReads\n",
      "\n",
      "The QC stats for the filtered reads are saved in /home/doresegu/scratch/private/JCS_MetaGenome_Project/JapaneseMacaqueData/Stats/Filtered_Demultiplexed_Reads/barcode01_Wu_M_010GEN_FS_dna\n",
      "\n",
      "Please remember that the files are now renamed\n",
      "The out is /home/doresegu/scratch/private/JCS_MetaGenome_Project/JapaneseMacaqueData/Filtered_RawReads\n"
     ]
    }
   ],
   "source": []
  },
  {
   "cell_type": "code",
   "execution_count": 54,
   "id": "86c81f9b-eb41-46eb-97e5-3ab9f8e605d6",
   "metadata": {},
   "outputs": [
    {
     "name": "stdout",
     "output_type": "stream",
     "text": [
      "Filtering by the defined length you provided\n",
      "Starting NanoFilt\n",
      "Filtering complete. QC will be done for your new filtered reads\n",
      "The files have been renamed according to the names provided in the config file\n",
      "This means that barcode01 has been renamed to Wu_M_010GEN_FS_dna\n",
      "nanoStat complete for barcode01\n",
      "Proceeding to nanoQC\n",
      "nanoQC complete for barcode01\n",
      "Proceeding to FastQC\n",
      "FastQC complete\n",
      "The raw demultiplexed reads have been successfully filtered and saved in /home/doresegu/scratch/private/JCS_MetaGenome_Project/JapaneseMacaqueData/Filtered_RawReads\n",
      "The QC stats for the filtered reads are saved in /home/doresegu/scratch/private/JCS_MetaGenome_Project/JapaneseMacaqueData/Stats/Filtered_Demultiplexed_Reads/barcode01_Wu_M_010GEN_FS_dna\n",
      "Please remember that the files are now renamed\n",
      "barcode01 is now Wu_M_010GEN_FS_dna\n",
      "\n",
      "Filtering by the defined length you provided\n",
      "Starting NanoFilt\n",
      "Filtering complete. QC will be done for your new filtered reads\n",
      "The files have been renamed according to the names provided in the config file\n",
      "This means that barcode02 has been renamed to Wu_M_010GEN_FS_cDNA\n",
      "nanoStat complete for barcode02\n",
      "Proceeding to nanoQC\n",
      "nanoQC complete for barcode02\n",
      "Proceeding to FastQC\n",
      "FastQC complete\n",
      "The raw demultiplexed reads have been successfully filtered and saved in /home/doresegu/scratch/private/JCS_MetaGenome_Project/JapaneseMacaqueData/Filtered_RawReads\n",
      "The QC stats for the filtered reads are saved in /home/doresegu/scratch/private/JCS_MetaGenome_Project/JapaneseMacaqueData/Stats/Filtered_Demultiplexed_Reads/barcode02_Wu_M_010GEN_FS_cDNA\n",
      "Please remember that the files are now renamed\n",
      "barcode02 is now Wu_M_010GEN_FS_cDNA\n",
      "\n"
     ]
    }
   ],
   "source": [
    "def filt_qc(SAVEPATH,BRCDE,ISOLATE):\n",
    "    demultiplexed = SAVEPATH + \"/Demultiplexed\"\n",
    "    # filtering\n",
    "    statss = SAVEPATH + \"/Stats/Filtered_Demultiplexed_Reads/\" + BRCDE + \"_\" + ISOLATE\n",
    "    os.system('mkdir -p ' + statss)\n",
    "    print('Filtering by the defined length you provided')\n",
    "    print('Starting NanoFilt')\n",
    "    file = demultiplexed + \"/\" + BRCDE + \".fastq.gz\"\n",
    "    filt_out = SAVEPATH + \"/Filtered_RawReads\"\n",
    "    #os.system('mkdir -p ' + filt_out)\n",
    "    filt_file = filt_out + \"/\" + ISOLATE + \".fastq.gz\"\n",
    "    filtSt = (\"gunzip -c\", file, \"| NanoFilt -l\", FILT_LENGTH, \"-q\", FILT_QUAL, \">\", filt_file)\n",
    "    runFiltSt = ' '.join(filtSt)\n",
    "    #print(runFiltSt)\n",
    "    #subprocess.call(runFiltSt, shell=True)\n",
    "    print('Filtering complete. QC will be done for your new filtered reads')\n",
    "    print('The files have been renamed according to the names provided in the config file')\n",
    "    print('This means that ' + BRCDE + ' has been renamed to ' + ISOLATE)\n",
    "    # qc filtered\n",
    "    ofile = ISOLATES[count] + \".txt\"\n",
    "    nanSt = (\"NanoStat\", \"--fastq\", filt_file, \"--outdir\", statss, \"-n\", ofile)\n",
    "    runNanSt = ' '.join(nanSt)\n",
    "    #print(runNanSt)\n",
    "    #subprocess.call(runNanSt, shell=True)\n",
    "    print('nanoStat complete for ' + BRCDE)\n",
    "    print('Proceeding to nanoQC')\n",
    "    nanQ = (\"nanoQC\", \"-o\", statss, filt_file)\n",
    "    runNanQ = ' '.join(nanQ)\n",
    "    #print(runNanQ)\n",
    "    #subprocess.call(runNanQ, shell=True)\n",
    "    print('nanoQC complete for ' + BRCDE)\n",
    "    print('Proceeding to FastQC')\n",
    "    fatq = (\"fastqc\", \"-t\", THRDS, \"-o\", statss, filt_file)\n",
    "    runFatq = ' '.join(fatq)\n",
    "    #print(runFatq)\n",
    "    #subprocess.call(runFatq, shell=True)\n",
    "    print('FastQC complete')\n",
    "    return filt_out, statss\n",
    "count = 0\n",
    "for i in BRCDES:\n",
    "    isola = ISOLATES[count]\n",
    "    filtered_path,filtered_stats=filt_qc(SAVEPATH,i,isola)\n",
    "    print('The raw demultiplexed reads have been successfully filtered and saved in ' + filtered_path)\n",
    "    print('The QC stats for the filtered reads are saved in ' + filtered_stats)\n",
    "    count+=1\n",
    "    print('Please remember that the files are now renamed')\n",
    "    print(i + ' is now ' + isola)\n",
    "    print('')"
   ]
  },
  {
   "cell_type": "code",
   "execution_count": 65,
   "id": "a4679ef3-b6bb-479f-b38c-1b1882180912",
   "metadata": {},
   "outputs": [
    {
     "name": "stdout",
     "output_type": "stream",
     "text": [
      "['bash', '/home/doresegu/scratch/private/JCS_MetaGenome_Project/Scripts/Alignment.sh', '/home/doresegu/scratch/private/JCS_MetaGenome_Project/JapaneseMacaqueData/Filtered_RawReads/Wu_M_010GEN_FS_dna.fastq.gz', '/home/doresegu/scratch/private/JCS_MetaGenome_Project/JapaneseMacaqueData/Filtered_Reads_Aligned_Vs_Reference', '/home/doresegu/scratch/private/JCS_MetaGenome_Project/JapaneseMacaqueData/Host_Free_Reads', '12', '/home/doresegu/scratch/private/JCS_MetaGenome_Project/JapaneseMacaqueData/Stats/Alignment_Vs_Reference/Wu_M_010GEN_FS_dna', '/home/doresegu/scratch/private/JCS_MetaGenome_Project/Index/GCF_000956065.1_Mnem_1.0_genomic.fna.gz']\n",
      "Alignment done for Wu_M_010GEN_FS_dna\n",
      "['bash', '/home/doresegu/scratch/private/JCS_MetaGenome_Project/Scripts/Alignment.sh', '/home/doresegu/scratch/private/JCS_MetaGenome_Project/JapaneseMacaqueData/Filtered_RawReads/Wu_M_010GEN_FS_cDNA.fastq.gz', '/home/doresegu/scratch/private/JCS_MetaGenome_Project/JapaneseMacaqueData/Filtered_Reads_Aligned_Vs_Reference', '/home/doresegu/scratch/private/JCS_MetaGenome_Project/JapaneseMacaqueData/Host_Free_Reads', '12', '/home/doresegu/scratch/private/JCS_MetaGenome_Project/JapaneseMacaqueData/Stats/Alignment_Vs_Reference/Wu_M_010GEN_FS_cDNA', '/home/doresegu/scratch/private/JCS_MetaGenome_Project/Index/GCF_000956065.1_Mnem_1.0_genomic.fna.gz']\n",
      "Alignment done for Wu_M_010GEN_FS_cDNA\n"
     ]
    }
   ],
   "source": [
    "def align(REFPATH,filterd,SAVEPATH,THRDS,ISOLATE):\n",
    "    file = filterd + \"/\" + ISOLATE + \".fastq.gz\"\n",
    "    aligned_out = SAVEPATH + \"/Filtered_Reads_Aligned_Vs_Reference\"\n",
    "    aligned_files = SAVEPATH + \"/Host_Free_Reads\"\n",
    "    statss = SAVEPATH + \"/Stats/Alignment_Vs_Reference/\" + ISOLATE\n",
    "    alignCal = SCPTS + \"/Alignment.sh\"\n",
    "    alignScrp = ['bash', alignCal, file, aligned_out, aligned_files, THRDS, statss, REFPATH]\n",
    "    print(alignScrp)\n",
    "    #subprocess.run(alignScrp)\n",
    "    #indx_path = SAVEPATH + \"/Reference_index.mmi\"\n",
    "    #indx = mp.Aligner(REFPATH, preset=\"map-ont\", n_threads=int(THRDS), fn_idx_out=indx_path)\n",
    "    #if not indx: \n",
    "    #    raise Exception(\"ERROR: failed to build/load index\")\n",
    "    #for name, seq in mp.fastx_read(file):\n",
    "    #    print(\"Aligning sequence \" + name + \":\")\n",
    "    #    indx.map(file, n_threads=THRDS)\n",
    "    print('Alignment done for ' + ISOLATE)\n",
    "for i in ISOLATES:\n",
    "    align(REFPATH,filtered_path,SAVEPATH,THRDS,i) #### not working yet"
   ]
  },
  {
   "cell_type": "code",
   "execution_count": 61,
   "id": "116530ca-8d0c-4f00-9288-d81105875aea",
   "metadata": {},
   "outputs": [
    {
     "name": "stdout",
     "output_type": "stream",
     "text": [
      "Wu_M_010GEN_FS_dna\n",
      "Wu_M_010GEN_FS_cDNA\n"
     ]
    }
   ],
   "source": [
    "for i in ISOLATES:\n",
    "    "
   ]
  },
  {
   "cell_type": "markdown",
   "id": "1b5a0bfd-b017-4c69-83be-49e1842582f2",
   "metadata": {},
   "source": [
    "## Testing section below. All cells should be commented"
   ]
  },
  {
   "cell_type": "markdown",
   "id": "b9f986a5-a48c-410d-ab1d-9e0f0b8efa6a",
   "metadata": {},
   "source": [
    "##### Basecalling and Demultiplexing testing"
   ]
  },
  {
   "cell_type": "code",
   "execution_count": null,
   "id": "2fcf4af5-0791-4416-9093-355f35cc82be",
   "metadata": {},
   "outputs": [],
   "source": [
    "#subprocess.run('bash -c \"source activate testing\"', shell=True)\n",
    "#sys.stdout = open('test_output.txt', 'w')\n",
    "#os.system(\"conda list\")\n",
    "##os.system(\"qcat --help\")\n",
    "#subprocess.run('bash','qcat','--help')\n",
    "#sys.stdout.close()\n",
    "#subprocess.run('bash -c \"source deactivate\"', shell=True)"
   ]
  },
  {
   "cell_type": "markdown",
   "id": "c47c6315-14d9-4918-8f88-39b7dbf2754a",
   "metadata": {},
   "source": [
    "#### QC section"
   ]
  },
  {
   "cell_type": "code",
   "execution_count": null,
   "id": "5cf1c5a9-7bb7-4cd7-8ea1-818604d6121d",
   "metadata": {},
   "outputs": [],
   "source": [
    "def filt_qc(SAVEPATH,BRCDES):\n",
    "    demultiplexed = SAVEPATH + \"/Demultiplexed\"\n",
    "    count = 0\n",
    "    for i in BRCDES:\n",
    "    # filtering\n",
    "        statss = SAVEPATH + \"/Stats/Filtered_Demultiplexed_Reads/\" + i + \"_\" + ISOLATES[count]\n",
    "        os.system('mkdir -p ' + statss)\n",
    "        print('Filtering by the defined length you provided')\n",
    "        print('Starting NanoFilt')\n",
    "        file = demultiplexed + \"/\" + i + \".fastq.gz\"\n",
    "        filt_out = SAVEPATH + \"/Filtered_RawReads\"\n",
    "        #os.system('mkdir -p ' + filt_out)\n",
    "        filt_file = filt_out + \"/\" + ISOLATES[count] + \".fastq.gz\"\n",
    "        filtSt = (\"gunzip -c\", file, \"| NanoFilt -l\", FILT_LENGTH, \"-q\", FILT_QUAL, \">\", filt_file)\n",
    "        runFiltSt = ' '.join(filtSt)\n",
    "        print(runFiltSt)\n",
    "        #subprocess.call(runFiltSt, shell=True)\n",
    "        print('Filtering complete. QC will be done for your new filtered reads')\n",
    "        print('The files have been renamed according to the names provided in the config file')\n",
    "        print('This means that ' + i + ' has been renamed to ' + ISOLATES[count])\n",
    "        # qc filtered\n",
    "        ofile = ISOLATES[count] + \".txt\"\n",
    "        nanSt = (\"NanoStat\", \"--fastq\", filt_file, \"--outdir\", statss, \"-n\", ofile)\n",
    "        runNanSt = ' '.join(nanSt)\n",
    "        print(runNanSt)\n",
    "        #subprocess.call(runNanSt, shell=True)\n",
    "        print('nanoStat complete for ' + i)\n",
    "        print('Proceeding to nanoQC')\n",
    "        nanQ = (\"nanoQC\", \"-o\", statss, filt_file)\n",
    "        runNanQ = ' '.join(nanQ)\n",
    "        print(runNanQ)\n",
    "        #subprocess.call(runNanQ, shell=True)\n",
    "        print('nanoQC complete for ' + i)\n",
    "        print('Proceeding to FastQC')\n",
    "        fatq = (\"fastqc\", \"-t\", THRDS, \"-o\", statss, filt_file)\n",
    "        runFatq = ' '.join(fatq)\n",
    "        print(runFatq)\n",
    "        #subprocess.call(runFatq, shell=True)\n",
    "        print('FastQC complete')\n",
    "        count=+1\n",
    "        print('')\n",
    "        print('The raw reads have been successfully filtered and saved in ' + filt_out)\n",
    "        print('')\n",
    "        print('The QC stats for the filtered reads are saved in ' + statss)\n",
    "        print('')\n",
    "        print('Please remember that the files are now renamed')\n",
    "        return filt_out\n",
    "\n",
    "for i in BRCDES:\n",
    "    filtered_path=filt_qc(SAVEPATH,i)\n",
    "print('The out is ' + filtered_path)"
   ]
  },
  {
   "cell_type": "markdown",
   "id": "89cefeed-90e7-45c0-bd40-26e5455b0bfe",
   "metadata": {},
   "source": [
    "#### More testing in QC"
   ]
  },
  {
   "cell_type": "code",
   "execution_count": null,
   "id": "6cd62082-5e94-4f85-95d9-aa708e158967",
   "metadata": {},
   "outputs": [],
   "source": [
    "#def run_QC(dem_dir,barcode,stats,ofile):\n",
    "#    stats_dir = os.path.join(stats, \"Raw_Demultiplexed_Reads\", barcode)\n",
    "#    if os.path.exists(stats_dir):\n",
    "#        pass\n",
    "#    else:\n",
    "#        os.makedirs(stats_dir)\n",
    "#    temp = barcode + \".fastq.gz\"\n",
    "#    file_in = os.path.join(dem_dir, temp)\n",
    "#    ofile = barcode + \".txt\"\n",
    "#    nanSt = (\"NanoStat\", \"--fastq\", file_in, \"--outdir\", stats_dir, \"-n\", ofile)\n",
    "#    runNanSt = ' '.join(nanSt)\n",
    "#    print(runNanSt)\n",
    "#    #subprocess.call(runNanSt, shell=True)\n",
    "#    print('nanoStat complete for ' + barcode)\n",
    "#    print('Proceeding to nanoQC')\n",
    "#    nanQ = (\"nanoQC\", \"-o\", stats_dir, file_in)\n",
    "#    runNanQ = ' '.join(nanQ)\n",
    "#    print(runNanQ)\n",
    "#    subprocess.call(runNanQ, shell=True)\n",
    "#    print('nanoQC complete for ' + barcode)\n",
    "#    print('Proceeding to FastQC')\n",
    "#    fatq = (\"fastqc\", \"-t\", str(THREADS), \"-o\", stats_dir, file_in)\n",
    "#    runFatq = ' '.join(fatq)\n",
    "#    print(runFatq)\n",
    "#    #subprocess.call(runFatq, shell=True)\n",
    "#    print('FastQC complete')\n",
    "#    return stats_dir"
   ]
  }
 ],
 "metadata": {
  "kernelspec": {
   "display_name": "Python 3 (ipykernel)",
   "language": "python",
   "name": "python3"
  },
  "language_info": {
   "codemirror_mode": {
    "name": "ipython",
    "version": 3
   },
   "file_extension": ".py",
   "mimetype": "text/x-python",
   "name": "python",
   "nbconvert_exporter": "python",
   "pygments_lexer": "ipython3",
   "version": "3.10.2"
  }
 },
 "nbformat": 4,
 "nbformat_minor": 5
}
